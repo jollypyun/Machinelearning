{
  "nbformat": 4,
  "nbformat_minor": 0,
  "metadata": {
    "colab": {
      "name": "Chapter4.ipynb",
      "provenance": [],
      "authorship_tag": "ABX9TyPcbmuT4n7CRLlzp/OkAm9E",
      "include_colab_link": true
    },
    "kernelspec": {
      "name": "python3",
      "display_name": "Python 3"
    },
    "language_info": {
      "name": "python"
    }
  },
  "cells": [
    {
      "cell_type": "markdown",
      "metadata": {
        "id": "view-in-github",
        "colab_type": "text"
      },
      "source": [
        "<a href=\"https://colab.research.google.com/github/jollypyun/Machinelearning/blob/main/Chapter4.ipynb\" target=\"_parent\"><img src=\"https://colab.research.google.com/assets/colab-badge.svg\" alt=\"Open In Colab\"/></a>"
      ]
    },
    {
      "cell_type": "markdown",
      "metadata": {
        "id": "6fHxeP17KWDy"
      },
      "source": [
        "# **모델 훈련**\n",
        "\n"
      ]
    },
    {
      "cell_type": "markdown",
      "metadata": {
        "id": "3opu26dhR4c9"
      },
      "source": [
        "## **선형 회귀**\n",
        "일반적으로 선형 모델은 입력 특성의 **가중치 합**과 **편향(bias)**이라는 상수를 더해 예측을 만든다.  \n",
        "\n"
      ]
    },
    {
      "cell_type": "code",
      "metadata": {
        "id": "kWpF3FUGH84_",
        "colab": {
          "base_uri": "https://localhost:8080/"
        },
        "outputId": "5cfa1291-b60f-4969-ff11-650b3b81bdf7"
      },
      "source": [
        "import matplotlib.pyplot as plt\n",
        "import numpy as np\n",
        "x = 2 * np.random.rand(100, 1)\n",
        "y = 4 + 3 * x + np.random.rand(100, 1)\n",
        "\n",
        "x_b = np.c_[np.ones((100, 1)), x]\n",
        "theta_best = np.linalg.inv(x_b.T.dot(x_b)).dot(x_b.T).dot(y) # 정규방정식 : theta_best를 구하기 위한 공식\n",
        "theta_best # 비용 함수를 최소화하는 θ값"
      ],
      "execution_count": 1,
      "outputs": [
        {
          "output_type": "execute_result",
          "data": {
            "text/plain": [
              "array([[4.43640681],\n",
              "       [3.04297068]])"
            ]
          },
          "metadata": {
            "tags": []
          },
          "execution_count": 1
        }
      ]
    },
    {
      "cell_type": "markdown",
      "metadata": {
        "id": "KWL_rnY9h_cD"
      },
      "source": [
        "* np.linalg : 선형대수 모듈\n",
        "  *   det(x) : 행렬식(Determinant), 출력 - 행렬식 값 리턴\n",
        "  *   inv(x) : 역행렬(Inverse), 출력 - 역행렬 리턴\n",
        "  *   eig(x) : 고유값(Eigenvalue), 고유벡터(Eigenvector), 고유값과 고유벡터를 리턴\n",
        "  *   svd(A) : 특이값 분해(Single Value Decomposition), 행렬을 대각화하는 방법. U, Sigma, Vt 리턴\n",
        "  *   solve(a,b) : 연립방정식 해 풀기, 해를 리턴\n",
        "  *   lstsq(A, y, rcond = None)[0] : 최소자승 해 풀기, 최소자승법으로 잔차 제곱합을 최소화하는 회귀계수를 추정한다. x - Least-sqaures solution, residuals - Sums of squared residuals, rank - rank of matrix, s - Singular values\n",
        "  *   pinv(x) : 유사역행렬(무어-펜로즈 역행렬)\n",
        "\n",
        "* np.T : 전치행렬, 전치행렬 리턴\n"
      ]
    },
    {
      "cell_type": "code",
      "metadata": {
        "id": "NeD83kHNhjwz",
        "colab": {
          "base_uri": "https://localhost:8080/"
        },
        "outputId": "205b0c81-5b8e-438d-b568-4a640c1718b4"
      },
      "source": [
        "x_new = np.array([[0], [2]])\n",
        "x_new_b = np.c_[np.ones((2, 1)), x_new]\n",
        "y_predict = x_new_b.dot(theta_best)\n",
        "y_predict"
      ],
      "execution_count": 2,
      "outputs": [
        {
          "output_type": "execute_result",
          "data": {
            "text/plain": [
              "array([[ 4.43640681],\n",
              "       [10.52234817]])"
            ]
          },
          "metadata": {
            "tags": []
          },
          "execution_count": 2
        }
      ]
    },
    {
      "cell_type": "code",
      "metadata": {
        "colab": {
          "base_uri": "https://localhost:8080/",
          "height": 265
        },
        "id": "bxHt5P4F97eG",
        "outputId": "e8942dfd-5434-4581-8be7-c6f65187a10c"
      },
      "source": [
        "plt.plot(x_new, y_predict, \"r-\")\n",
        "plt.plot(x, y, \"b.\")\n",
        "plt.axis([0, 2, 0, 15])\n",
        "plt.show()"
      ],
      "execution_count": 3,
      "outputs": [
        {
          "output_type": "display_data",
          "data": {
            "image/png": "[encoded data removed]",
            "text/plain": [
              "<Figure size 432x288 with 1 Axes>"
            ]
          },
          "metadata": {
            "tags": [],
            "needs_background": "light"
          }
        }
      ]
    },
    {
      "cell_type": "code",
      "metadata": {
        "colab": {
          "base_uri": "https://localhost:8080/"
        },
        "id": "w3ytdYdH-RAE",
        "outputId": "ddaec12e-8cdf-4047-acf6-b61508baffae"
      },
      "source": [
        "from sklearn.linear_model import LinearRegression\n",
        "lin_reg = LinearRegression()\n",
        "lin_reg.fit(x, y)"
      ],
      "execution_count": 4,
      "outputs": [
        {
          "output_type": "execute_result",
          "data": {
            "text/plain": [
              "LinearRegression(copy_X=True, fit_intercept=True, n_jobs=None, normalize=False)"
            ]
          },
          "metadata": {
            "tags": []
          },
          "execution_count": 4
        }
      ]
    },
    {
      "cell_type": "code",
      "metadata": {
        "colab": {
          "base_uri": "https://localhost:8080/"
        },
        "id": "Mk9w-ZINAOZQ",
        "outputId": "d8801d77-ad4b-42b9-cdd7-97861d323d8f"
      },
      "source": [
        "lin_reg.coef_, lin_reg.intercept_"
      ],
      "execution_count": 5,
      "outputs": [
        {
          "output_type": "execute_result",
          "data": {
            "text/plain": [
              "(array([[3.04297068]]), array([4.43640681]))"
            ]
          },
          "metadata": {
            "tags": []
          },
          "execution_count": 5
        }
      ]
    },
    {
      "cell_type": "code",
      "metadata": {
        "colab": {
          "base_uri": "https://localhost:8080/"
        },
        "id": "xuFYJgwCA8TC",
        "outputId": "c6bdf717-c343-4d20-852d-89370491c76f"
      },
      "source": [
        "lin_reg.predict(x_new)"
      ],
      "execution_count": 6,
      "outputs": [
        {
          "output_type": "execute_result",
          "data": {
            "text/plain": [
              "array([[ 4.43640681],\n",
              "       [10.52234817]])"
            ]
          },
          "metadata": {
            "tags": []
          },
          "execution_count": 6
        }
      ]
    },
    {
      "cell_type": "markdown",
      "metadata": {
        "id": "IAkP81uWBcnw"
      },
      "source": [
        "LinearRegression는 lstsq()함수를 기반으로 한다."
      ]
    },
    {
      "cell_type": "code",
      "metadata": {
        "colab": {
          "base_uri": "https://localhost:8080/"
        },
        "id": "clWQ_1AvBE5G",
        "outputId": "2f6a2b82-0a1f-4747-ce54-5c425bcf579d"
      },
      "source": [
        "theta_best_svd, residuals, rank, s = np.linalg.lstsq(x_b, y, rcond = 1e-6)\n",
        "theta_best_svd"
      ],
      "execution_count": 7,
      "outputs": [
        {
          "output_type": "execute_result",
          "data": {
            "text/plain": [
              "array([[4.43640681],\n",
              "       [3.04297068]])"
            ]
          },
          "metadata": {
            "tags": []
          },
          "execution_count": 7
        }
      ]
    },
    {
      "cell_type": "code",
      "metadata": {
        "colab": {
          "base_uri": "https://localhost:8080/"
        },
        "id": "X6z5_7BiEuuK",
        "outputId": "4852fa08-4e8c-4e3d-8129-a9dfdf495ddd"
      },
      "source": [
        "np.linalg.pinv(x_b).dot(y)"
      ],
      "execution_count": 8,
      "outputs": [
        {
          "output_type": "execute_result",
          "data": {
            "text/plain": [
              "array([[4.43640681],\n",
              "       [3.04297068]])"
            ]
          },
          "metadata": {
            "tags": []
          },
          "execution_count": 8
        }
      ]
    },
    {
      "cell_type": "markdown",
      "metadata": {
        "id": "-ukCVSjYy_aw"
      },
      "source": [
        "정규방정식을 계산하는 것보다 특잇값 분해라는 표준 행렬 분해 기법을 사용해 계산되는 것이 효율적이다. 또한 정규방정식은 조건을 타지만 "
      ]
    },
    {
      "cell_type": "code",
      "metadata": {
        "id": "25_cjL9-6mIR"
      },
      "source": [
        "eta = 0.1\n",
        "n_iterations = 1000\n",
        "m = 100\n",
        "theta = np.random.randn(2,1)\n",
        "\n",
        "for iteration in range(n_iterations):\n",
        "  gradients = 2 / m * x_b.T.dot(x_b.dot(theta) - y)\n",
        "  theta = theta - eta * gradients"
      ],
      "execution_count": 9,
      "outputs": []
    },
    {
      "cell_type": "code",
      "metadata": {
        "id": "M24tmivHGHwB",
        "colab": {
          "base_uri": "https://localhost:8080/"
        },
        "outputId": "1ebfaed8-5348-4e8c-c15e-50beba157558"
      },
      "source": [
        "theta"
      ],
      "execution_count": 10,
      "outputs": [
        {
          "output_type": "execute_result",
          "data": {
            "text/plain": [
              "array([[4.43640681],\n",
              "       [3.04297068]])"
            ]
          },
          "metadata": {
            "tags": []
          },
          "execution_count": 10
        }
      ]
    },
    {
      "cell_type": "code",
      "metadata": {
        "colab": {
          "base_uri": "https://localhost:8080/"
        },
        "id": "sdlVMKgg7sVZ",
        "outputId": "892396c1-b939-4eae-d647-5259bb9e197b"
      },
      "source": [
        "n_epochs = 50\n",
        "t0, t1 = 5, 50\n",
        "\n",
        "def learning_schedule(t):\n",
        "  return t0 / (t + t1)\n",
        "\n",
        "theta = np.random.randn(2, 1)\n",
        "m = 500 # 훈련세트에 있는 샘플 수\n",
        "\n",
        "for epoch in range(n_epochs):\n",
        "  for i in range(m):\n",
        "    random_index = np.random.randint(m)\n",
        "    xi =  x_b[random_index:random_index + 1]\n",
        "    yi = y[random_index: random_index + 1]\n",
        "    gradients = 2 * xi.T.dot(xi.dot(theta) - yi)\n",
        "    eta = learning_schedule(epoch * m + i)\n",
        "    theta = theta - eta * gradients\n",
        "\n",
        "theta"
      ],
      "execution_count": 11,
      "outputs": [
        {
          "output_type": "execute_result",
          "data": {
            "text/plain": [
              "array([[4.09743783],\n",
              "       [3.31608108]])"
            ]
          },
          "metadata": {
            "tags": []
          },
          "execution_count": 11
        }
      ]
    },
    {
      "cell_type": "code",
      "metadata": {
        "colab": {
          "base_uri": "https://localhost:8080/"
        },
        "id": "VWOUA12kKrvz",
        "outputId": "0e44abd1-ce72-4c45-8187-2bce98cc5c16"
      },
      "source": [
        "from sklearn.linear_model import SGDRegressor\n",
        "sgd_reg = SGDRegressor(max_iter = 1000, tol = 1e-3, penalty = None, eta0 = 0.1)\n",
        "sgd_reg.fit(x, y.ravel())\n",
        "sgd_reg.intercept_, sgd_reg.coef_"
      ],
      "execution_count": 12,
      "outputs": [
        {
          "output_type": "execute_result",
          "data": {
            "text/plain": [
              "(array([4.39171071]), array([3.05117324]))"
            ]
          },
          "metadata": {
            "tags": []
          },
          "execution_count": 12
        }
      ]
    },
    {
      "cell_type": "markdown",
      "metadata": {
        "id": "jbi8_2zXL43d"
      },
      "source": [
        "## **다항 회귀**\n",
        "비선형 데이터를 학습하는 데 선형 모델을 사용할 수 있다. 각 특성의 거듭제곱을 새로운 특성으로 차가하고, 이 확장된 특성을 포함한 데이터셋에 선형 모델을 훈련시키는 것.  \n",
        "  \n",
        "간단한 2차방정식으로 비선형데이터를 만들어 예를 들어보겠다."
      ]
    },
    {
      "cell_type": "code",
      "metadata": {
        "id": "u_H2toT-LTez",
        "colab": {
          "base_uri": "https://localhost:8080/",
          "height": 265
        },
        "outputId": "29f763bd-3395-4cc4-bab4-4f2774c9331d"
      },
      "source": [
        "m = 100\n",
        "x = 6 * np.random.rand(m, 1) - 3\n",
        "y = 0.5 * x ** 2 + x + 2 + np.random.randn(m, 1)\n",
        "plt.plot(x,y,'b.')\n",
        "plt.show()"
      ],
      "execution_count": 13,
      "outputs": [
        {
          "output_type": "display_data",
          "data": {
            "image/png": "[encoded data removed]",
            "text/plain": [
              "<Figure size 432x288 with 1 Axes>"
            ]
          },
          "metadata": {
            "tags": [],
            "needs_background": "light"
          }
        }
      ]
    },
    {
      "cell_type": "markdown",
      "metadata": {
        "id": "nCx8hZHAS2D-"
      },
      "source": [
        "그래프와 같이 직선으로는 이 데이터를 분류할 수 없을 것이다. 그렇기에 PolynomialFeatures를 사용해 훈련 데이터를 변환해보겠다. 훈련 세트에 있는 각 특성을 제곱하여 새로운 특성으로 추가한다."
      ]
    },
    {
      "cell_type": "code",
      "metadata": {
        "colab": {
          "base_uri": "https://localhost:8080/"
        },
        "id": "3PWQIQDLaP7s",
        "outputId": "c0ae03f8-6bab-413b-f12e-ca0a0e53232d"
      },
      "source": [
        "from sklearn.preprocessing import PolynomialFeatures\n",
        "poly_features = PolynomialFeatures(degree = 2, include_bias = False) # 이차, 편향을 위한 특성인 1이 추가되지 않음\n",
        "x_poly = poly_features.fit_transform(x)\n",
        "print(x[0], x_poly[0])"
      ],
      "execution_count": 14,
      "outputs": [
        {
          "output_type": "stream",
          "text": [
            "[0.60371548] [0.60371548 0.36447237]\n"
          ],
          "name": "stdout"
        }
      ]
    },
    {
      "cell_type": "code",
      "metadata": {
        "colab": {
          "base_uri": "https://localhost:8080/"
        },
        "id": "w2JhthWjalK6",
        "outputId": "32918ff3-db9b-45d2-a6f2-008d0d53fa9d"
      },
      "source": [
        "a = lin_reg.fit(x_poly,y)\n",
        "print(lin_reg.intercept_, lin_reg.coef_)"
      ],
      "execution_count": 15,
      "outputs": [
        {
          "output_type": "stream",
          "text": [
            "[2.18367385] [[1.01037019 0.48565208]]\n"
          ],
          "name": "stdout"
        }
      ]
    },
    {
      "cell_type": "markdown",
      "metadata": {
        "id": "EAPZTAIYiqIr"
      },
      "source": [
        "학습 곡선을 살펴보는 것이다. 이 그래프는 훈련 세트와 검증 세트의 모델 성능을 훈련 세트 크기의 함수로 나타냅니다. 그래프는 생성하기 위해서는 단순히 훈련 세트에서 크기가 다른 서브 세트를 만들어 모델을 여러번 훈련시키면 된다. 다음 코드는 주어진 훈련 데이터에서 모델의 학습 곡선을 그리는 함수를 정의한다."
      ]
    },
    {
      "cell_type": "code",
      "metadata": {
        "colab": {
          "base_uri": "https://localhost:8080/",
          "height": 265
        },
        "id": "X9bO7hM4a55I",
        "outputId": "05ed6ffd-ffc0-4236-b06e-2928c0708085"
      },
      "source": [
        "from sklearn.metrics import mean_squared_error\n",
        "from sklearn.model_selection import train_test_split\n",
        "\n",
        "def plot_learning_curves(model, x, y):\n",
        "  x_train, x_val, y_train, y_val = train_test_split(x, y, test_size = 0.2)\n",
        "  train_errors, val_errors = [], []\n",
        "  for m in range(1, len(x_train)):\n",
        "    model.fit(x_train[:m], y_train[:m])\n",
        "    y_train_predict = model.predict(x_train[:m])\n",
        "    y_val_predict = model.predict(x_val)\n",
        "    train_errors.append(mean_squared_error(y_train[:m], y_train_predict))\n",
        "    val_errors.append(mean_squared_error(y_val, y_val_predict))\n",
        "  plt.plot(np.sqrt(train_errors), 'r-+', linewidth = 2, label = \"훈련 세트\")\n",
        "  plt.plot(np.sqrt(val_errors), \"b-\", linewidth = 3, label = \"검증 세트\")\n",
        "\n",
        "plot_learning_curves(lin_reg, x, y)"
      ],
      "execution_count": 16,
      "outputs": [
        {
          "output_type": "display_data",
          "data": {
            "image/png": "[encoded data removed]",
            "text/plain": [
              "<Figure size 432x288 with 1 Axes>"
            ]
          },
          "metadata": {
            "tags": [],
            "needs_background": "light"
          }
        }
      ]
    },
    {
      "cell_type": "markdown",
      "metadata": {
        "id": "rAzD5gf2pg-L"
      },
      "source": [
        " **훈련 데이터**\n",
        " * 그래프가 0에서 시작한다. 이것으로 보아 하나 혹은 두 개의 샘플이 있을 때는 모델이 완벽하게 작동한다.\n",
        " * 샘플이 추가됨에 따라 잡음도 있고 비선형이기 때문에 모델이 훈련 데이터를 완벽히 학습하는 것이 불가능해진다.\n",
        " * 그래서 곡선이 어느 정도 평평해질 때까지 오차가 계속 상승한다.\n",
        " * 또한 훈련 세트에 샘플이 추가되어도 평균 오차가 크게 나아지거나 나빠지지 않는다.  \n",
        "   \n",
        " \n",
        " **검증 데이터**\n",
        " * 적은 수의 훈련 샘플로 훈련될 때는 제대로 일반화 딜 수 없어서 검증 오차가 초기에 매우 크다.\n",
        " * 모델에 훈련 샘플이 추가됨에 따라 학습이 되고 검증 오차가 천천히 감소된다.\n",
        " * 선형 회귀의 직선은 데이터를 잘 모델링할 수 없으므로 오차의 감소가 완만해져서 훈련 세트의 그래프와 가까워진다.  "
      ]
    },
    {
      "cell_type": "markdown",
      "metadata": {
        "id": "oVDacY1ms6iw"
      },
      "source": [
        "이러한 학습 곡선은 과소적합 모델의 전형적인 모습이다. 두 곡선이 수평한 구간을 만들고 꽤 높은 오차에서 매우 가까이 근접해 있다. 또한 훈련 샘플을 추가한다 하더라도 효과가 없다. 이러한 경우는 더 복잡한 모델을 사용하거나 더 나은 특성을 선택해야 한다."
      ]
    },
    {
      "cell_type": "markdown",
      "metadata": {
        "id": "rcJS3diltVAA"
      },
      "source": [
        "같은 데이터에 10차 다항 회귀 모델의 학습 곡선을 그려보자."
      ]
    },
    {
      "cell_type": "code",
      "metadata": {
        "colab": {
          "base_uri": "https://localhost:8080/",
          "height": 265
        },
        "id": "MnhztYIvo1NR",
        "outputId": "7a698f0b-6f73-4f38-9b18-9976cc629a07"
      },
      "source": [
        "from sklearn.pipeline import Pipeline\n",
        "\n",
        "polynomial_regression = Pipeline([\n",
        "                                  (\"poly_features\", PolynomialFeatures(degree = 10, include_bias=False)),\n",
        "                                  (\"lin_reg\", LinearRegression())\n",
        "])\n",
        "\n",
        "plot_learning_curves(polynomial_regression, x, y)"
      ],
      "execution_count": 17,
      "outputs": [
        {
          "output_type": "display_data",
          "data": {
            "image/png": "[encoded data removed]",
            "text/plain": [
              "<Figure size 432x288 with 1 Axes>"
            ]
          },
          "metadata": {
            "tags": [],
            "needs_background": "light"
          }
        }
      ]
    },
    {
      "cell_type": "markdown",
      "metadata": {
        "id": "Oshhj4RgxJ76"
      },
      "source": [
        "* 훈련 데이터의 오차가 선형 회귀 모델보다 훨씬 낮다.\n",
        "* 두 곡선 사이에 공간이 있다. 훈련 데이터에서의 모델 성능이 검증 데이터에서보다 훨씬 낫다는 뜻이고 이는 과대적합 모델의 특이다. 그러나, 더 큰 훈련 세트를 사용하면 두 곡선이 점점 가까워진다.\n",
        "* 고대적합 모델을 개선하는 방법은 검증 오차가 훈련 오차에 근접할 때까지 더 많은 훈련 데이터를 추가하는 것이다."
      ]
    },
    {
      "cell_type": "markdown",
      "metadata": {
        "id": "CdUcE6cLyuE8"
      },
      "source": [
        "* 편향 : 일반화 오차 중에서 편향은 잘못된 가정으로 인한 것이다. 편향이 큰 모델은 훈련 데이터에 과소적합되기 쉽다.\n",
        "* 분산 : 훈련 데이터에 있는 작은 변동에 모델이 과도하게 민감하기 때문에 나타난다. 자유도가 높은 모델이 높은 분산을 가지기 쉬워 훈련 데이터에 과대적합되는 경향이 있다.\n",
        "* 줄일 수 없는 오차 : 데이터 자체에 있는 잡음 때문에 발생한다. 이 오차를 유일한 방법은 데이터에서 잡음을 제거하는 것이다."
      ]
    },
    {
      "cell_type": "markdown",
      "metadata": {
        "id": "3npGdeEP1wIv"
      },
      "source": [
        "모델의 복잡도가 커지면 통상적으로 분산이 늘어나고 편향은 줄어든다. 반대로 모델의 복잡도가 줄어들면 편향이 커지고 분산이 작아진다. 이것을 트레이드오프라고 부른다."
      ]
    },
    {
      "cell_type": "markdown",
      "metadata": {
        "id": "rbDBNGUO3eE9"
      },
      "source": [
        "과대적합을 감소시키는 좋은 방법은 모델을 규제하는 것이다.  \n",
        "다항 회귀 모델에서는 다항식의 차수를 감소시키는 것이다.  \n",
        "  \n",
        "선형 회귀 모델에서는 보통 모델의 가중치를 제한함으로써 규제를 가한다. 각기 다른 방법으로 가중치를 제한하는 '릿지', '라쏘', '엘라스틱넷'을 본다."
      ]
    },
    {
      "cell_type": "markdown",
      "metadata": {
        "id": "BkTK44eL6hmx"
      },
      "source": [
        "**릿지 회귀**  \n",
        "규제가 추가된 선형 회귀 버전이다. 규제항($\\alpha\\sum_{i=1}^{n}\\theta_i^2$)이 비용 함수에 추가되어 학습 알고리즘을 데이터에 맞추는 것뿐만 아니라 모델의 가중치가 가능한 한 작게 유지되도록 노력한다.  \n",
        "모델의 훈련이 끝나면 모델의 성능을 규제가 없는 성능 지표로 평가한다.  \n",
        "  \n",
        "$\\alpha$는 모델을 얼마나 많이 규제할지 조절하는 하이퍼파라미터이다. 0이 되면 선형 회귀와 같이지고 아주 크면 모든 가중치가 거의 0에 가까워지고 결국 데이터의 평균을 지나는 수평선이 된다. 릿지 회귀의 비용 함수식은 아래와 같다.  \n",
        "  \n",
        "$$J(\\theta) = MSE(\\theta) + \\alpha{1 \\over 2}\\sum_{i=1}^{n}\\theta_i^2$$\n",
        "편향 $\\theta_0$는 규제되지 않는다.  \n",
        "  \n",
        "몇 가지 다른 $\\alpha$를 사용해 릿지 모델을 훈련시킬 것이다. "
      ]
    },
    {
      "cell_type": "code",
      "metadata": {
        "id": "nPKjoF8o5Gxa"
      },
      "source": [
        "np.random.seed(42)\n",
        "m = 20\n",
        "x = 3 * np.random.rand(m, 1)\n",
        "y = 1 + 0.5 * x + np.random.randn(m, 1) / 15\n",
        "x_new = np.linspace(0, 3, 100).reshape(100, 1)"
      ],
      "execution_count": 18,
      "outputs": []
    },
    {
      "cell_type": "code",
      "metadata": {
        "colab": {
          "base_uri": "https://localhost:8080/"
        },
        "id": "mq58augUDx2X",
        "outputId": "130f7d94-6aec-4b39-87d5-585d04313dc1"
      },
      "source": [
        "from sklearn.linear_model import Ridge\n",
        "ridge_reg = Ridge(alpha = 1, solver = \"cholesky\", random_state = 42)\n",
        "ridge_reg.fit(x,y)\n",
        "ridge_reg.predict([[1.5]])"
      ],
      "execution_count": 19,
      "outputs": [
        {
          "output_type": "execute_result",
          "data": {
            "text/plain": [
              "array([[1.72674942]])"
            ]
          },
          "metadata": {
            "tags": []
          },
          "execution_count": 19
        }
      ]
    },
    {
      "cell_type": "code",
      "metadata": {
        "colab": {
          "base_uri": "https://localhost:8080/"
        },
        "id": "O8VvX64SAcK4",
        "outputId": "9cb1e491-e0b7-4163-d99e-46cfc6de9f4a"
      },
      "source": [
        "ridge_reg = Ridge(alpha = 1, solver = \"sag\", random_state = 42)\n",
        "ridge_reg.fit(x,y)\n",
        "ridge_reg.predict([[1.5]])"
      ],
      "execution_count": 20,
      "outputs": [
        {
          "output_type": "execute_result",
          "data": {
            "text/plain": [
              "array([[1.7269393]])"
            ]
          },
          "metadata": {
            "tags": []
          },
          "execution_count": 20
        }
      ]
    },
    {
      "cell_type": "code",
      "metadata": {
        "colab": {
          "base_uri": "https://localhost:8080/",
          "height": 291
        },
        "id": "bvJ5K3q9Ea4F",
        "outputId": "d61ef21b-4193-4f0b-a58e-84455f8a7a58"
      },
      "source": [
        "from sklearn.preprocessing import StandardScaler\n",
        "\n",
        "def plot_model(model_class, polynomial, alphas, **model_kargs):\n",
        "  for alpha, style in zip(alphas, (\"b-\", \"g--\", \"r:\")):\n",
        "    model = model_class(alpha, **model_kargs) if alpha > 0 else LinearRegression()\n",
        "    if polynomial == True:\n",
        "      model = Pipeline([\n",
        "                        (\"poly_features\", PolynomialFeatures(degree = 10, include_bias = False)),\n",
        "                        (\"std_scaler\", StandardScaler()),\n",
        "                        (\"regul_reg\", model)\n",
        "      ])\n",
        "    model.fit(x,y)\n",
        "    y_new_regul = model.predict(x_new)\n",
        "    lw = 2 if alpha > 0 else 1\n",
        "    plt.plot(x_new, y_new_regul, style, linewidth = lw, label = r\"$\\alpha = {}$\".format(alpha))\n",
        "  plt.plot(x, y, \"b.\", linewidth = 3)\n",
        "  plt.legend(loc = \"upper left\", fontsize = 15)\n",
        "  plt.xlabel(\"$x_1$\", fontsize = 18)\n",
        "  plt.axis([0,3,0,4])\n",
        "\n",
        "plt.figure(figsize = (8,4))\n",
        "plt.subplot(121)\n",
        "plot_model(Ridge, polynomial = False, alphas = (0, 10, 100), random_state = 42)\n",
        "plt.ylabel(\"$y$\", rotation = 0, fontsize = 18)\n",
        "plt.subplot(122)\n",
        "plot_model(Ridge, polynomial = True, alphas = (0, 10**-5, 1), random_state = 42)\n",
        "plt.show()"
      ],
      "execution_count": 21,
      "outputs": [
        {
          "output_type": "display_data",
          "data": {
            "image/png": "[encoded data removed]",
            "text/plain": [
              "<Figure size 576x288 with 2 Axes>"
            ]
          },
          "metadata": {
            "tags": [],
            "needs_background": "light"
          }
        }
      ]
    },
    {
      "cell_type": "markdown",
      "metadata": {
        "id": "PehQrPp-6WYQ"
      },
      "source": [
        "### **라쏘 회귀 (Least Absolute Shrinkage and Selection Operator 회귀)**\n",
        "\n",
        "릿지 회귀 처럼 비용 함쉬에 규제항을 더하지만 $l_2$노름의 제곱을 2로 나눈 것 대신 가중치 벡터의 $l_1$노름을 사용한다. 아래는 라쏘 회귀의 비용 함수를 나타낸 것이다.\n",
        "$$J(\\theta) = MSE(\\theta) + \\alpha\\sum_{i=1}^{n}\\left|\\theta_i\\right|$$  \n",
        "아래는 라쏘 회귀를 활용한 코드와 릿지 모델보다 더 작은 $\\alpha$값을 사용한 그래프이다."
      ]
    },
    {
      "cell_type": "code",
      "metadata": {
        "colab": {
          "base_uri": "https://localhost:8080/"
        },
        "id": "ItYggL8ADN8q",
        "outputId": "bfd9824d-2f6e-492a-937f-66a66091d551"
      },
      "source": [
        "sdg_reg = SGDRegressor(penalty = \"l2\", max_iter = 1000, tol = 1e-3, random_state = 42)\n",
        "sdg_reg.fit(x, y.ravel())\n",
        "sdg_reg.predict([[1.5]])"
      ],
      "execution_count": 22,
      "outputs": [
        {
          "output_type": "execute_result",
          "data": {
            "text/plain": [
              "array([1.64448244])"
            ]
          },
          "metadata": {
            "tags": []
          },
          "execution_count": 22
        }
      ]
    },
    {
      "cell_type": "code",
      "metadata": {
        "colab": {
          "base_uri": "https://localhost:8080/",
          "height": 346
        },
        "id": "IBXM8Ed2E49L",
        "outputId": "45de55ea-9a2f-4ee2-f60d-fd655cc0f51c"
      },
      "source": [
        "from sklearn.linear_model import Lasso\n",
        "\n",
        "plt.figure(figsize = (8,4))\n",
        "plt.subplot(121)\n",
        "plot_model(Lasso, polynomial = False, alphas = (0, 0.1, 1), random_state = 42)\n",
        "plt.ylabel(\"$y$\", rotation = 0, fontsize = 18)\n",
        "plt.subplot(122)\n",
        "plot_model(Lasso, polynomial = True, alphas = (0, 10**-7, 1), random_state = 42)\n",
        "plt.show()"
      ],
      "execution_count": 23,
      "outputs": [
        {
          "output_type": "stream",
          "text": [
            "/usr/local/lib/python3.7/dist-packages/sklearn/linear_model/_coordinate_descent.py:476: ConvergenceWarning: Objective did not converge. You might want to increase the number of iterations. Duality gap: 0.027993811745096055, tolerance: 0.00039324287419248904\n",
            "  positive)\n"
          ],
          "name": "stderr"
        },
        {
          "output_type": "display_data",
          "data": {
            "image/png": "[encoded data removed]",
            "text/plain": [
              "<Figure size 576x288 with 2 Axes>"
            ]
          },
          "metadata": {
            "tags": [],
            "needs_background": "light"
          }
        }
      ]
    },
    {
      "cell_type": "markdown",
      "metadata": {
        "id": "PS3Rg6-49Szb"
      },
      "source": [
        "중요한 특징은 덜 중요한 특성의 가중치를 0으로 만들어 제거하려고 하는 것이다. 차수가 높은 다항 특성의 가중치가 모두 0이 되었습니다. 이것으로 보아 라쏘 회귀는 자동으로 특성 선택을 하고 희소 모델을 만든다. "
      ]
    },
    {
      "cell_type": "markdown",
      "metadata": {
        "id": "PfP--SBiItwQ"
      },
      "source": [
        "### **엘라스틱넷**\n",
        "릿지 회귀와 라쏘 회귀를 절충한 모델. 규제항은 릿지와 회귀의 규제항을 단순히 더해서 사용하며, 혼합 정도는 혼합 비율 r을 사용해 조절한다. r = 0이면 엘라스틱넷은 릿지 회귀와 같고 r = 1이면 라쏘 회귀와 같다.\n",
        "$$J(\\theta) = MSE(\\theta) + r\\alpha\\sum_{i=1}^{n}\\left|\\theta_i\\right| + {1-r \\over 2}\\alpha\\sum_{i=1}^{n}\\theta_i^2$$"
      ]
    },
    {
      "cell_type": "markdown",
      "metadata": {
        "id": "koMyg6KKLhpH"
      },
      "source": [
        "일반 선형 회귀, 릿지 회귀, 라쏘 회귀, 엘라스틱넷은 언제 사용해야 할까?  \n",
        "  \n",
        "적어도 일반 선형 회귀는 피해야 한다. 이유는 규제가 약간이라도 있는 것이 대부분 좋기 때문이다.  \n",
        "릿지가 기본이 되지만 쓰이는 특성이 몇 개뿐이라면 라쏘나 엘랏스틱넷이 훨씬 좋다. 이유는 이 모델들은 불필요한 특성의 가중치를 0으로 만들어 주기 때문이다.  \n",
        "특성 수가 훈련 샘플 수보다 많거나 특성 몇 개가 강하게 연관되어 있을 때는 보통은 문제를 일으키는 라쏘보다는 엘라스틱넷을 많이 쓴다."
      ]
    },
    {
      "cell_type": "markdown",
      "metadata": {
        "id": "CtJgBuBxMpKO"
      },
      "source": [
        "엘라스틱넷의 예제이다."
      ]
    },
    {
      "cell_type": "code",
      "metadata": {
        "colab": {
          "base_uri": "https://localhost:8080/"
        },
        "id": "qCtpfZuWKD1L",
        "outputId": "459bf28a-ed3d-4f01-f246-38f5feb1557c"
      },
      "source": [
        "from sklearn.linear_model import ElasticNet\n",
        "elastic_net = ElasticNet(alpha = 0.1, l1_ratio = 0.5, random_state = 42)\n",
        "elastic_net.fit(x,y)\n",
        "elastic_net.predict([[1.5]])"
      ],
      "execution_count": 24,
      "outputs": [
        {
          "output_type": "execute_result",
          "data": {
            "text/plain": [
              "array([1.71936709])"
            ]
          },
          "metadata": {
            "tags": []
          },
          "execution_count": 24
        }
      ]
    },
    {
      "cell_type": "code",
      "metadata": {
        "id": "Il_q91v9KSq4"
      },
      "source": [
        "np.random.seed(42)\n",
        "m = 100\n",
        "x = 6 * np.random.rand(m, 1) - 3\n",
        "y = 2 + x + 0.5 * x ** 2 + np.random.randn(m,1)\n",
        "x_train, x_val, y_train, y_val = train_test_split(x[:50], y[:50].ravel(), test_size = 0.5, random_state = 10)\n"
      ],
      "execution_count": 25,
      "outputs": []
    },
    {
      "cell_type": "markdown",
      "metadata": {
        "id": "dQCSTxgIOJTF"
      },
      "source": [
        "### **조기 종료**\n",
        "반복적인 학습 알고리즘을 규제하는 방법 중 하나로 검증 에러가 최솟값에 도달하면 바로 훈련을 중지시키는 것이다. 아래는 예제이다."
      ]
    },
    {
      "cell_type": "code",
      "metadata": {
        "id": "B4RsURXaLCtE"
      },
      "source": [
        "from copy import deepcopy\n",
        "poly_scaler = Pipeline([\n",
        "                        (\"poly_features\", PolynomialFeatures(degree = 90, include_bias = False)),\n",
        "                        (\"std_scaler\", StandardScaler())\n",
        "])\n",
        "\n",
        "x_train_poly_scaled = poly_scaler.fit_transform(x_train)\n",
        "x_val_poly_scaled = poly_scaler.transform(x_val)\n",
        "sgd_reg = SGDRegressor(max_iter = 1, tol = -np.infty, warm_start = True, penalty = None, learning_rate = \"constant\", eta0 = 0.0005, random_state = 42)\n",
        "\n",
        "minimum_val_error = float('inf')\n",
        "best_epoch = None\n",
        "best_model = None\n",
        "for epoch in range(1000):\n",
        "  sgd_reg.fit(x_train_poly_scaled, y_train) # 중지된 곳에서 시작한다.\n",
        "  y_val_predict = sgd_reg.predict(x_val_poly_scaled)\n",
        "  val_error = mean_squared_error(y_val, y_val_predict)\n",
        "  if val_error < minimum_val_error:\n",
        "    minimum_val_error = val_error\n",
        "    best_epoch = epoch\n",
        "    best_model = deepcopy(sgd_reg)"
      ],
      "execution_count": 26,
      "outputs": []
    },
    {
      "cell_type": "markdown",
      "metadata": {
        "id": "Bopc0Bf9NESJ"
      },
      "source": [
        "그래프로 알아보자."
      ]
    },
    {
      "cell_type": "code",
      "metadata": {
        "colab": {
          "base_uri": "https://localhost:8080/",
          "height": 283
        },
        "id": "16iwLQh2HTlK",
        "outputId": "3b243122-a078-44fd-fb0b-1f5a1e92cee2"
      },
      "source": [
        "sgd_reg = SGDRegressor(max_iter = 1, tol = -np.infty, warm_start = True, penalty = None, learning_rate = \"constant\", eta0 = 0.0005, random_state = 42)\n",
        "n_epochs = 500\n",
        "train_errors, val_errors = [],[]\n",
        "for epoch in range(n_epochs):\n",
        "  sgd_reg.fit(x_train_poly_scaled, y_train)\n",
        "  y_train_predict = sgd_reg.predict(x_train_poly_scaled)\n",
        "  y_val_predict = sgd_reg.predict(x_val_poly_scaled)\n",
        "  train_errors.append(mean_squared_error(y_train, y_train_predict))\n",
        "  val_errors.append(mean_squared_error(y_val, y_val_predict))\n",
        "\n",
        "best_epoch = np.argmin(val_errors)\n",
        "best_val_rmse = np.sqrt(val_errors[best_epoch])\n",
        "\n",
        "plt.annotate('Best model',\n",
        "             xy = (best_epoch, best_val_rmse),\n",
        "             xytext = (best_epoch, best_val_rmse + 1),\n",
        "             ha = \"center\",\n",
        "             arrowprops = dict(facecolor = 'black', shrink = 0.05),\n",
        "             fontsize = 16\n",
        "             )\n",
        "best_val_rmse -= 0.03 # 그래프를 더 보기 좋게 하기 위함.\n",
        "plt.plot([0,n_epochs], [best_val_rmse, best_val_rmse], \"k:\", linewidth = 2)\n",
        "plt.plot(np.sqrt(val_errors), \"b-\", linewidth = 3, label = \"Validation set\")\n",
        "plt.plot(np.sqrt(train_errors), \"r--\", linewidth = 2, label = \"Training set\")\n",
        "plt.legend(loc = \"upper right\", fontsize = 14)\n",
        "plt.xlabel(\"Epoch\", fontsize = 14)\n",
        "plt.ylabel(\"RMSE\", fontsize = 14)\n",
        "plt.show()"
      ],
      "execution_count": 27,
      "outputs": [
        {
          "output_type": "display_data",
          "data": {
            "image/png": "[encoded data removed]",
            "text/plain": [
              "<Figure size 432x288 with 1 Axes>"
            ]
          },
          "metadata": {
            "tags": [],
            "needs_background": "light"
          }
        }
      ]
    },
    {
      "cell_type": "code",
      "metadata": {
        "colab": {
          "base_uri": "https://localhost:8080/"
        },
        "id": "tSsRZ4BgRPgt",
        "outputId": "ccf2ecc9-578c-4727-be0e-4cc30b5e32c3"
      },
      "source": [
        "print(best_epoch, best_model)"
      ],
      "execution_count": 28,
      "outputs": [
        {
          "output_type": "stream",
          "text": [
            "239 SGDRegressor(alpha=0.0001, average=False, early_stopping=False, epsilon=0.1,\n",
            "             eta0=0.0005, fit_intercept=True, l1_ratio=0.15,\n",
            "             learning_rate='constant', loss='squared_loss', max_iter=1,\n",
            "             n_iter_no_change=5, penalty=None, power_t=0.25, random_state=42,\n",
            "             shuffle=True, tol=-inf, validation_fraction=0.1, verbose=0,\n",
            "             warm_start=True)\n"
          ],
          "name": "stdout"
        }
      ]
    },
    {
      "cell_type": "markdown",
      "metadata": {
        "id": "kW5wmnr1rtG5"
      },
      "source": [
        ""
      ]
    },
    {
      "cell_type": "markdown",
      "metadata": {
        "id": "oJMRfx76RkL1"
      },
      "source": [
        "### **로지스틱 회귀**\n",
        "샘플이 특정 클래스에 속할 확률을 추정하는 데 널리 사용됨. 추정 확률이 50%가 넘으면 그 샘플이 해당 클래스에 속한다고 예측한다. 이를 이진 분류기라고 한다.  \n",
        "  \n",
        "입력 특성의 가중치 합을 계산하고 편향을 더하는 방식으로 작동을 한다. 이 부분은 선형 회귀와 같지만 바로 결과를 출력하지 않고 결괏값의 로지스틱을 출력하는 것이 다른 점이다.  \n",
        "  \n",
        "여기서 로지스틱이란 0과 1사이의 값을 출력하는 시그모이드 함수(Sigmoid Function)이다. $\\sigma(\\centerdot)$로 표현한다. 아래는 로직스틱 회귀 모델의 확률 추정을 벡터 표현식과 시그모이드 함수이다.  \n",
        "$$\\hat{p} =  h_\\theta(\\mathbf{x}) = \\sigma(\\theta^{T}\\mathbf{x})$$  \n",
        "$$\\sigma(t) = {1 \\over 1+exp(-t)}$$  \n",
        "\n",
        "위의 확률 추정에서 0.5이 넘어가면 해당 클래스에 속한다고 하였다. 즉, 1이 되고 아닌 경우는 0이 된다는 것이다.  \n",
        "  \n",
        "  \n",
        "$$\\hat{y} = \\begin{cases}\n",
        "0 & \\mbox{if}\\ \\hat{p} < 0.5\\\\\n",
        "1 & \\mbox{if}\\ \\hat{p} \\ge 0.5\n",
        "\\end{cases}$$"
      ]
    },
    {
      "cell_type": "code",
      "metadata": {
        "colab": {
          "base_uri": "https://localhost:8080/",
          "height": 225
        },
        "id": "ptRXekC77CVc",
        "outputId": "2d7446d2-77ac-4bd7-ffa5-231e99a09a58"
      },
      "source": [
        "# 시그모이드 함수 그래프\n",
        "t = np.linspace(-10, 10, 100)\n",
        "sigma = 1 / (1 + np.exp(-t))\n",
        "\n",
        "plt.figure(figsize = (9,3))\n",
        "plt.plot([-10, 10], [0,0], \"k-\")\n",
        "plt.plot([-10, 10], [0.5,0.5], \"k:\")\n",
        "plt.plot([-10, 10], [1,1], \"k:\")\n",
        "plt.plot([0,0],[-0.1, 1.1], \"k-\")\n",
        "plt.plot(t, sigma, \"b-\", linewidth = 2, label = r\"$\\sigma(t) = \\frac{1}{1 + e^{-t}}$\")\n",
        "plt.xlabel(\"t\")\n",
        "plt.legend(loc = \"upper left\", fontsize = 20)\n",
        "plt.axis([-10, 10, -0.1, 1.1])\n",
        "plt.show()"
      ],
      "execution_count": 32,
      "outputs": [
        {
          "output_type": "display_data",
          "data": {
            "image/png": "[encoded data removed]",
            "text/plain": [
              "<Figure size 648x216 with 1 Axes>"
            ]
          },
          "metadata": {
            "tags": [],
            "needs_background": "light"
          }
        }
      ]
    },
    {
      "cell_type": "markdown",
      "metadata": {
        "id": "Hb-h9x3l1fZj"
      },
      "source": [
        "어떻게 추정하고 예측하는지는 알았으나 훈련은 어떻게 하는 것일까?  \n",
        "훈련의 목적은 양성 샘플에 대해서는 높은 확률을 추정하고 음성 샘플에 대해서는 낮은 확률을 추정하는 모델의 파라미터 벡터 $\\mathbf{\\theta}$를 찾는 것이다. 이러한 것은 하나의 훈련 샘플에 대한 비용 함수에서 나타난다.  \n",
        "$$c(\\mathbf{\\theta}) = \\begin{cases}\n",
        "-log(\\hat{p})& \\mbox{if}\\ y = 1\\\\\n",
        "-log(1-\\hat{p})& \\mbox{else if}\\ y = 0\n",
        "\\end{cases}$$  \n",
        "t가 0에 가까워질수록 $-log(t)$가 매우 커진다. 즉, 모델이 양성 샘플을 0에 가까운 확률로 추정하면 비용이 크게 증가할 것이다. 이러한 것을 로그 손실이라 부르며 전체 훈련 세트에 대한 비용 함수를 하나의 식으로 쓸 수 있다.  \n",
        "$$J(\\theta)=-{1 \\over m}\\sum_{i=1}^{m}[y^{(i)}log(\\hat{p}^{(i)})+(1-y^{(i)})log(1-\\hat{p}^{(i)})]$$\n",
        "이 함수는 최솟값을 계산하는 알려진 해가 없지만 볼록 함수이기에 경사 하강법이 전역 최솟값을 찾는 것을 보장한다."
      ]
    },
    {
      "cell_type": "markdown",
      "metadata": {
        "id": "4VsJ0DCm6-Fo"
      },
      "source": [
        "###**소프트맥스 회귀**\n",
        "로지스틱 회귀는 여러 개의 이진 분류기를 훈련시켜 연결하지 않고 직접 다중 클래스를 지원하도록 일반화될 수 있다. 이를 **소프트맥스 회귀** 또는 **다항 로지스틱 회귀**라 한다.  \n",
        "  \n",
        "샘프링 주어지면 소프트맥스 회귀 모델이 각 클래스에 대한 점수를 계산하고 그 점수에 소프트맥스 함수를 적용하여 각 클래스의 확률을 추정한다. 아래는 클래스에 대한 소프트맥스 점수 함수이다.\n",
        "$$s_k(\\mathbf{x}) = (\\mathbf{\\theta}^{(k)})^T\\mathbf{x}$$  \n",
        "이 점수를 아래의 소프트맥스 함수에 통과시키면 클래스 k에 속할 확률 $\\hat{p}_k$을 추정할 수 있다. 이 함수는 각 점수에 지수 함수를 적용한 후 정규화한 것이다.  \n",
        "  \n",
        "$$\\hat{p}_k=\\sigma(\\mathbf{s}(\\mathbf{x}))_k=\\frac{\\exp(s_k(\\mathbf{x}))}{\\sum_{j=1}^K\\exp(s_j(\\mathbf{x}))}$$\n",
        "* K는 클래스 수이다.\n",
        "* $\\mathbf{s}(\\mathbf{x})$는 샘플 $\\mathbf{x}$에 대한 각 클래스의 점수를 담은 벡터\n",
        "* $\\sigma(\\mathbf{s}(\\mathbf{x}))_k$는 샘플 $\\mathbf{x}$에 대한 각 클래스의 점수가 주어졌을 때 이 샘플이 클래스 k에 속할 추정 확률\n",
        "  \n",
        "로지스틱 회귀 분류기와 마찬가지로 추정 확률이 가장 높은 클래스를 선택한다. 단 주의해야할 것은 한 번에 하나의 클래스만 예측한다. 즉, 다중 클래스인 것이지 다중 출력이 아니라는 것이다. 그래서 종류가 다른 상호 배타적인 클래스에서만 사용해야 한다.  "
      ]
    }
  ]
}